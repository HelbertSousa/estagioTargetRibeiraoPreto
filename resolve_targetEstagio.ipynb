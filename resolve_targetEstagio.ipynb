{
 "cells": [
  {
   "cell_type": "markdown",
   "id": "9fda62b4",
   "metadata": {},
   "source": [
    "# 1 - Observe o trecho de código abaixo:"
   ]
  },
  {
   "cell_type": "code",
   "execution_count": 1,
   "id": "45c403e9",
   "metadata": {},
   "outputs": [
    {
     "name": "stdout",
     "output_type": "stream",
     "text": [
      "91\n"
     ]
    }
   ],
   "source": [
    "INDICE = 13\n",
    "SOMA = 0 \n",
    "K = 0\n",
    "\n",
    "for K in range(0,INDICE):\n",
    "    K = K + 1\n",
    "    SOMA = SOMA + K\n",
    "\n",
    "print(SOMA);"
   ]
  },
  {
   "cell_type": "markdown",
   "id": "f4d8decc",
   "metadata": {},
   "source": [
    "# 2 - Dado a sequência de Fibonacci, onde se inicia por 0 e 1 e o próximo valor sempre será a soma dos 2 valores anteriores (exemplo: 0, 1, 1, 2, 3, 5, 8, 13, 21, 34...).\n",
    "## Escreva um programa na linguagem que desejar onde, informado um número, ele calcule a sequência de Fibonacci e retorne uma mensagem avisando se o número informado pertence ou não a sequência.\n",
    "IMPORTANTE:\n",
    "\n",
    "Esse número pode ser informado através de qualquer entrada de sua preferência ou pode ser previamente definido no código;"
   ]
  },
  {
   "cell_type": "code",
   "execution_count": 2,
   "id": "5eec8761",
   "metadata": {},
   "outputs": [
    {
     "name": "stdout",
     "output_type": "stream",
     "text": [
      "Digite o número que deseja saber se existe na Sequência de Fibonacci: 12\n",
      "Não Pertence a Sequência de Fibonacci\n"
     ]
    }
   ],
   "source": [
    "prim = 0\n",
    "seg = 1\n",
    "\n",
    "numero = int(input('Digite o número que deseja saber se existe na Sequência de Fibonacci: '))\n",
    "if(numero == 0):\n",
    "    print('Pertence a Sequência de Fibonacci')\n",
    "else:\n",
    "    for i in range(0, numero):\n",
    "        seq = prim + seg\n",
    "        if(seq == numero):\n",
    "            print('Pertence a Sequência de Fibonacci')\n",
    "            break\n",
    "        elif(seq > numero):\n",
    "            print('Não Pertence a Sequência de Fibonacci')\n",
    "            break\n",
    "        prim = seg\n",
    "        seg = seq"
   ]
  },
  {
   "cell_type": "markdown",
   "id": "430fee60",
   "metadata": {},
   "source": [
    "# 3 - Descubra a lógica e complete o próximo elemento:"
   ]
  },
  {
   "cell_type": "markdown",
   "id": "b7a5d258",
   "metadata": {},
   "source": [
    "a) 1, 3, 5, 7, [9] (PA razão 2 - Primos)\n",
    "\n",
    "b) 2, 4, 8, 16, 32, 64, [128] (PG razão 2)\n",
    "\n",
    "c) 0, 1, 4, 9, 16, 25, 36, [49] (Quadrado perfeito)\n",
    "\n",
    "d) 4, 16, 36, 64, [100] (Razão: 12, 20, 28, 36) (64 + 36 = 100)\n",
    "\n",
    "e) 1, 1, 2, 3, 5, 8, [13] (Fibonacci)\n",
    "\n",
    "f) 2,10, 12, 16, 17, 18, 19, [200] (Número iniciado com D)"
   ]
  },
  {
   "cell_type": "markdown",
   "id": "1a7eaf34",
   "metadata": {},
   "source": [
    "# 4 - Dois veículos (um carro e um caminhão) saem respectivamente de cidades opostas pela mesma rodovia. O carro de Ribeirão Preto em direção a Franca, a uma velocidade constante de 110 km/h e o caminhão de Franca em direção a Ribeirão Preto a uma velocidade constante de 80 km/h. Quando eles se cruzarem na rodovia, qual estará mais próximo a cidade de Ribeirão Preto?"
   ]
  },
  {
   "cell_type": "code",
   "execution_count": 91,
   "id": "daa85967",
   "metadata": {},
   "outputs": [],
   "source": [
    "carroVel = 110\n",
    "carroIni = 0\n",
    "\n",
    "caminhaoVel = 80\n",
    "caminhaoIni = 100\n"
   ]
  },
  {
   "cell_type": "code",
   "execution_count": 92,
   "id": "48e142fc",
   "metadata": {},
   "outputs": [],
   "source": [
    "from sympy import *"
   ]
  },
  {
   "cell_type": "code",
   "execution_count": 96,
   "id": "8aefd652",
   "metadata": {},
   "outputs": [],
   "source": [
    "def funcaoHorariaCarro(s0, vX, t):\n",
    "    return s0 + vX * t\n",
    "\n",
    "def funcaoHorariaCaminhao(s0, vX,t):\n",
    "    pedagio = (caminhaoVel / 60) * 10\n",
    "    return s0 - vX * t - pedagio\n",
    "\n",
    "t = Symbol('t')"
   ]
  },
  {
   "cell_type": "code",
   "execution_count": 97,
   "id": "9ae44be6",
   "metadata": {},
   "outputs": [],
   "source": [
    "funcaoHorariaCarro(carroIni, carroVel, t)\n",
    "funcaoHorariaCaminhao(caminhaoIni, caminhaoVel, t)\n",
    "igualarCarroCaminhao = Eq(funcaoHorariaCarro(carroIni, carroVel, t),funcaoHorariaCaminhao(caminhaoIni, caminhaoVel, t))"
   ]
  },
  {
   "cell_type": "code",
   "execution_count": 104,
   "id": "eff24269",
   "metadata": {},
   "outputs": [
    {
     "name": "stdout",
     "output_type": "stream",
     "text": [
      "t =  0.456140350877193\n"
     ]
    }
   ],
   "source": [
    "aux = solve(igualarCarroCaminhao)[0]\n",
    "print('t = ', aux)"
   ]
  },
  {
   "cell_type": "code",
   "execution_count": 105,
   "id": "1eac3c9a",
   "metadata": {},
   "outputs": [
    {
     "name": "stdout",
     "output_type": "stream",
     "text": [
      "Km de encontro a partir de Ribeirão Preto:  50.1754385964912\n"
     ]
    }
   ],
   "source": [
    "print('Km de encontro a partir de Ribeirão Preto: ', funcaoHorariaCarro(carroIni, carroVel, aux))"
   ]
  },
  {
   "cell_type": "markdown",
   "id": "6b2a79fc",
   "metadata": {},
   "source": [
    "### Com esse resultado percebemos que o carro está mais distante de Ribeirão Preto."
   ]
  },
  {
   "cell_type": "markdown",
   "id": "c91db5ca",
   "metadata": {},
   "source": [
    "### Para resolver foi utilizado o movimento uniforme(MU) da física."
   ]
  },
  {
   "cell_type": "markdown",
   "id": "ca52bd01",
   "metadata": {},
   "source": [
    "# Exercicio 05 - Escreva um programa que inverta os caracteres de um string.\n",
    "\n",
    "IMPORTANTE:\n",
    "- Essa string pode ser informada através de qualquer entrada de sua preferência ou pode ser previamente definida no código;\n",
    "- Evite usar funções prontas, como, por exemplo, reverse;"
   ]
  },
  {
   "cell_type": "code",
   "execution_count": 112,
   "id": "3fb33be9",
   "metadata": {},
   "outputs": [],
   "source": [
    "def reverseString(string):\n",
    "    return string[::-1]\n",
    "\n",
    "# com while\n",
    "def reverseString2(string):\n",
    "    cont = len(string)\n",
    "    rev = []\n",
    "    while(cont):\n",
    "        cont = cont - 1\n",
    "        rev.append(string[cont])\n",
    "        \n",
    "    return rev"
   ]
  },
  {
   "cell_type": "code",
   "execution_count": 113,
   "id": "659ab4b0",
   "metadata": {},
   "outputs": [
    {
     "name": "stdout",
     "output_type": "stream",
     "text": [
      "Entre com sua string:String\n",
      "String reversa método 1: gnirtS\n",
      "String reversa método 2: gnirtS\n"
     ]
    }
   ],
   "source": [
    "string = input('Entre com sua string:')\n",
    "rev1 = reverseString(string)\n",
    "\n",
    "aux = reverseString2(string)\n",
    "\n",
    "rev2 = ''.join(aux)\n",
    "\n",
    "print('String reversa método 1: %s' %(rev1))\n",
    "\n",
    "print('String reversa método 2: %s' %(rev2))"
   ]
  },
  {
   "cell_type": "code",
   "execution_count": null,
   "id": "bdd84ebf",
   "metadata": {},
   "outputs": [],
   "source": []
  }
 ],
 "metadata": {
  "kernelspec": {
   "display_name": "Python 3 (ipykernel)",
   "language": "python",
   "name": "python3"
  },
  "language_info": {
   "codemirror_mode": {
    "name": "ipython",
    "version": 3
   },
   "file_extension": ".py",
   "mimetype": "text/x-python",
   "name": "python",
   "nbconvert_exporter": "python",
   "pygments_lexer": "ipython3",
   "version": "3.9.7"
  }
 },
 "nbformat": 4,
 "nbformat_minor": 5
}
