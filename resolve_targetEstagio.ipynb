{
 "cells": [
  {
   "cell_type": "markdown",
   "id": "9e9193aa",
   "metadata": {},
   "source": [
    "# 1 - Observe o trecho de código abaixo:"
   ]
  },
  {
   "cell_type": "code",
   "execution_count": 1,
   "id": "6495bf23",
   "metadata": {},
   "outputs": [
    {
     "name": "stdout",
     "output_type": "stream",
     "text": [
      "91\n"
     ]
    }
   ],
   "source": [
    "INDICE = 13\n",
    "SOMA = 0 \n",
    "K = 0\n",
    "\n",
    "for K in range(0,INDICE):\n",
    "    K = K + 1\n",
    "    SOMA = SOMA + K\n",
    "\n",
    "print(SOMA);"
   ]
  },
  {
   "cell_type": "markdown",
   "id": "2ec1cc11",
   "metadata": {},
   "source": [
    "### Resposta = 91"
   ]
  },
  {
   "cell_type": "markdown",
   "id": "8847d7c7",
   "metadata": {},
   "source": [
    "# 2 - Dado a sequência de Fibonacci, onde se inicia por 0 e 1 e o próximo valor sempre será a soma dos 2 valores anteriores (exemplo: 0, 1, 1, 2, 3, 5, 8, 13, 21, 34...).\n",
    "## Escreva um programa na linguagem que desejar onde, informado um número, ele calcule a sequência de Fibonacci e retorne uma mensagem avisando se o número informado pertence ou não a sequência.\n",
    "IMPORTANTE:\n",
    "\n",
    "Esse número pode ser informado através de qualquer entrada de sua preferência ou pode ser previamente definido no código;"
   ]
  },
  {
   "cell_type": "code",
   "execution_count": 2,
   "id": "1e378151",
   "metadata": {},
   "outputs": [
    {
     "name": "stdout",
     "output_type": "stream",
     "text": [
      "Digite o número que deseja saber se existe na Sequência de Fibonacci: 5\n",
      "Pertence a Sequência de Fibonacci\n"
     ]
    }
   ],
   "source": [
    "prim = 0\n",
    "seg = 1\n",
    "\n",
    "numero = int(input('Digite o número que deseja saber se existe na Sequência de Fibonacci: ')) # Lendo do usuário \n",
    "if(numero == 0):\n",
    "    print('Pertence a Sequência de Fibonacci')\n",
    "else:\n",
    "    for i in range(0, numero):\n",
    "        seq = prim + seg\n",
    "        if(seq == numero):\n",
    "            print('Pertence a Sequência de Fibonacci')\n",
    "            break\n",
    "        elif(seq > numero):\n",
    "            print('Não Pertence a Sequência de Fibonacci')\n",
    "            break\n",
    "        prim = seg\n",
    "        seg = seq"
   ]
  },
  {
   "cell_type": "markdown",
   "id": "8da31e5d",
   "metadata": {},
   "source": [
    "# 3 - Descubra a lógica e complete o próximo elemento:"
   ]
  },
  {
   "cell_type": "markdown",
   "id": "e3429a66",
   "metadata": {},
   "source": [
    "a) 1, 3, 5, 7, [9] (PA razão 2 - Primos)\n",
    "\n",
    "b) 2, 4, 8, 16, 32, 64, [128] (PG razão 2)\n",
    "\n",
    "c) 0, 1, 4, 9, 16, 25, 36, [49] (Quadrado perfeito)\n",
    "\n",
    "d) 4, 16, 36, 64, [100] (Razão: 12, 20, 28, 36) (64 + 36 = 100)\n",
    "\n",
    "e) 1, 1, 2, 3, 5, 8, [13] (Fibonacci)\n",
    "\n",
    "f) 2,10, 12, 16, 17, 18, 19, [200] (Número iniciado com D)"
   ]
  },
  {
   "cell_type": "markdown",
   "id": "0184ec47",
   "metadata": {},
   "source": [
    "# 4 - Dois veículos (um carro e um caminhão) saem respectivamente de cidades opostas pela mesma rodovia. O carro de Ribeirão Preto em direção a Franca, a uma velocidade constante de 110 km/h e o caminhão de Franca em direção a Ribeirão Preto a uma velocidade constante de 80 km/h. Quando eles se cruzarem na rodovia, qual estará mais próximo a cidade de Ribeirão Preto?"
   ]
  },
  {
   "cell_type": "code",
   "execution_count": 3,
   "id": "e8ead5d3",
   "metadata": {},
   "outputs": [],
   "source": [
    "# Atribuição dos dados a partir do problema\n",
    "carroVel = 110\n",
    "carroIni = 0\n",
    "\n",
    "caminhaoVel = 80\n",
    "caminhaoIni = 100\n"
   ]
  },
  {
   "cell_type": "code",
   "execution_count": 4,
   "id": "3a4c3e57",
   "metadata": {},
   "outputs": [],
   "source": [
    "# biblioteca para montar a equação\n",
    "from sympy import *"
   ]
  },
  {
   "cell_type": "code",
   "execution_count": 5,
   "id": "426538fe",
   "metadata": {},
   "outputs": [],
   "source": [
    "# Definição da função para o carro e o caminhão\n",
    "def funcaoHorariaCarro(s0, vX, t):\n",
    "    return s0 + vX * t\n",
    "\n",
    "def funcaoHorariaCaminhao(s0, vX,t):\n",
    "    pedagio = (caminhaoVel / 60) * 10\n",
    "    return s0 - vX * t - pedagio\n",
    "\n",
    "# transformando t em simbolo para a equação\n",
    "t = Symbol('t')"
   ]
  },
  {
   "cell_type": "code",
   "execution_count": 6,
   "id": "c68bba39",
   "metadata": {},
   "outputs": [],
   "source": [
    "# utilização das funções para medir o movimento do carro e do caminhão\n",
    "funcaoHorariaCarro(carroIni, carroVel, t)\n",
    "funcaoHorariaCaminhao(caminhaoIni, caminhaoVel, t)\n",
    "\n",
    "# Igualando as funções para definir a fórmula que responde onde o carro e o caminhão se encontram\n",
    "igualarCarroCaminhao = Eq(funcaoHorariaCarro(carroIni, carroVel, t),funcaoHorariaCaminhao(caminhaoIni, caminhaoVel, t))"
   ]
  },
  {
   "cell_type": "code",
   "execution_count": 7,
   "id": "f471a366",
   "metadata": {},
   "outputs": [
    {
     "name": "stdout",
     "output_type": "stream",
     "text": [
      "t =  0.456140350877193\n"
     ]
    }
   ],
   "source": [
    "# Usando python para resolver a equação\n",
    "aux = solve(igualarCarroCaminhao)[0]\n",
    "\n",
    "#indicando o valor de t nas equações\n",
    "print('t = ', aux)"
   ]
  },
  {
   "cell_type": "code",
   "execution_count": 8,
   "id": "b1e573d8",
   "metadata": {},
   "outputs": [
    {
     "name": "stdout",
     "output_type": "stream",
     "text": [
      "Km de encontro a partir de Ribeirão Preto:  50.1754385964912\n"
     ]
    }
   ],
   "source": [
    "print('Km de encontro a partir de Ribeirão Preto: ', funcaoHorariaCarro(carroIni, carroVel, aux))"
   ]
  },
  {
   "cell_type": "markdown",
   "id": "dfb2089c",
   "metadata": {},
   "source": [
    "### Com esse resultado percebemos que o carro está mais distante de Ribeirão Preto pois ele passou da metade do percurso, sendo assim, o caminhão tem menor distância da cidade de Ribeirão."
   ]
  },
  {
   "cell_type": "markdown",
   "id": "d1831cb8",
   "metadata": {},
   "source": [
    "### Para resolver foi utilizado o movimento uniforme(MU) da física."
   ]
  },
  {
   "cell_type": "markdown",
   "id": "f1c7a38a",
   "metadata": {},
   "source": [
    "# Exercicio 05 - Escreva um programa que inverta os caracteres de um string.\n",
    "\n",
    "IMPORTANTE:\n",
    "- Essa string pode ser informada através de qualquer entrada de sua preferência ou pode ser previamente definida no código;\n",
    "- Evite usar funções prontas, como, por exemplo, reverse;"
   ]
  },
  {
   "cell_type": "code",
   "execution_count": 9,
   "id": "8f921063",
   "metadata": {},
   "outputs": [],
   "source": [
    "def reverseString(string):\n",
    "    return string[::-1] \n",
    "\n",
    "# com while\n",
    "def reverseString2(string):\n",
    "    cont = len(string)\n",
    "    rev = []\n",
    "    while(cont):\n",
    "        cont = cont - 1\n",
    "        rev.append(string[cont]) # adicionando os caracteres a lista\n",
    "        \n",
    "    return rev"
   ]
  },
  {
   "cell_type": "code",
   "execution_count": 10,
   "id": "c58faa3f",
   "metadata": {},
   "outputs": [
    {
     "name": "stdout",
     "output_type": "stream",
     "text": [
      "Entre com sua string:String Reversa\n",
      "String reversa método 1: asreveR gnirtS\n",
      "String reversa método 2: asreveR gnirtS\n"
     ]
    }
   ],
   "source": [
    "string = input('Entre com sua string:')\n",
    "rev1 = reverseString(string)\n",
    "\n",
    "aux = reverseString2(string)\n",
    "\n",
    "rev2 = ''.join(aux) #unindo os caracteres da lista em uma string\n",
    "\n",
    "print('String reversa método 1: %s' %(rev1))\n",
    "\n",
    "print('String reversa método 2: %s' %(rev2))"
   ]
  }
 ],
 "metadata": {
  "kernelspec": {
   "display_name": "Python 3 (ipykernel)",
   "language": "python",
   "name": "python3"
  },
  "language_info": {
   "codemirror_mode": {
    "name": "ipython",
    "version": 3
   },
   "file_extension": ".py",
   "mimetype": "text/x-python",
   "name": "python",
   "nbconvert_exporter": "python",
   "pygments_lexer": "ipython3",
   "version": "3.9.7"
  }
 },
 "nbformat": 4,
 "nbformat_minor": 5
}
